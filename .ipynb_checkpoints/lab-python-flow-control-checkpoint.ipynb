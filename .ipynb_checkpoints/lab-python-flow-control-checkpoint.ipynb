{
 "cells": [
  {
   "cell_type": "markdown",
   "id": "d3bfc191-8885-42ee-b0a0-bbab867c6f9f",
   "metadata": {
    "tags": []
   },
   "source": [
    "# Lab | Flow Control"
   ]
  },
  {
   "cell_type": "markdown",
   "id": "3851fcd1-cf98-4653-9c89-e003b7ec9400",
   "metadata": {},
   "source": [
    "## Exercise: Managing Customer Orders Optimized\n",
    "\n",
    "In the last lab, you were starting an online store that sells various products. To ensure smooth operations, you developed a program that manages customer orders and inventory.\n",
    "\n",
    "You did so without using flow control. Let's go a step further and improve this code.\n",
    "\n",
    "Follow the steps below to complete the exercise:\n",
    "\n",
    "1. Look at your code from the lab data structures, and improve repeated code with loops.\n",
    "\n",
    "2. Instead of asking the user to input the name of three products that a customer wants to order, do the following:\n",
    "    \n",
    "    a. Prompt the user to enter the name of a product that a customer wants to order.\n",
    "    \n",
    "    b. Add the product name to the \"customer_orders\" set.\n",
    "    \n",
    "    c. Ask the user if they want to add another product (yes/no).\n",
    "    \n",
    "    d. Continue the loop until the user does not want to add another product.\n",
    "\n",
    "3. Instead of updating the inventory by subtracting 1 from the quantity of each product, only do it for  the products that were ordered (those in \"customer_orders\")."
   ]
  },
  {
   "cell_type": "code",
   "execution_count": 1,
   "id": "88d15423",
   "metadata": {},
   "outputs": [
    {
     "name": "stdout",
     "output_type": "stream",
     "text": [
      "Input quantity of t-shirt:10\n",
      "Input quantity of mug:10\n",
      "Input quantity of hat:10\n",
      "Input quantity of book:10\n",
      "Input quantity of keychain:10\n"
     ]
    },
    {
     "data": {
      "text/plain": [
       "{'t-shirt': 10, 'mug': 10, 'hat': 10, 'book': 10, 'keychain': 10}"
      ]
     },
     "execution_count": 1,
     "metadata": {},
     "output_type": "execute_result"
    }
   ],
   "source": [
    "products=[\"t-shirt\", \"mug\", \"hat\", \"book\", \"keychain\"]\n",
    "\n",
    "inventory={}\n",
    "\n",
    "for product in products:\n",
    "    quantity=int(input(f'Input quantity of {product}:')) \n",
    "    inventory[product]= quantity\n",
    "              \n",
    "inventory"
   ]
  },
  {
   "cell_type": "code",
   "execution_count": 2,
   "id": "1cafec70",
   "metadata": {},
   "outputs": [
    {
     "name": "stdout",
     "output_type": "stream",
     "text": [
      "Enter product you want to order from the available products: t-shirt, mug, hat, book, or keychain: mug\n",
      "Do you want to buy another product? Answer yes or no: yes\n",
      "Enter product you want to order from the available products: t-shirt, mug, hat, book, or keychain: hat\n",
      "Do you want to buy another product? Answer yes or no: maybe\n",
      "Please write yes or no\n",
      "Do you want to buy another product? Answer yes or no: yes\n",
      "Enter product you want to order from the available products: t-shirt, mug, hat, book, or keychain: mug\n",
      "Do you want to buy another product? Answer yes or no: no\n",
      "Order finished\n",
      "Ordered products: {'hat', 'mug'}\n"
     ]
    }
   ],
   "source": [
    "# Create an empty set called customer_orders.\n",
    "customer_orders=set()\n",
    "answer = \"yes\"\n",
    "\n",
    "#a. Prompt the user to enter the name of a product that a customer wants to order.\n",
    "#b. Add the product name to the \"customer_orders\" set.\n",
    "while answer == \"yes\":\n",
    "        product = input(\"Enter product you want to order from the available products: t-shirt, mug, hat, book, or keychain: \")\n",
    "        product= product.lower().strip()\n",
    "        if product in products:\n",
    "            customer_orders.add(product) \n",
    "        else:\n",
    "            print(\"Product you chose is not available or you made a typo\")\n",
    "        \n",
    "        answer = input(\"Do you want to buy another product? Answer yes or no: \").lower().strip() # Add the valid product name to the customer_orders set\n",
    "        if answer == \"no\":\n",
    "            print(\"Order finished\")\n",
    "        elif answer ==\"yes\":\n",
    "            pass\n",
    "        else:\n",
    "            print(\"Please write yes or no\")\n",
    "            answer = input(\"Do you want to buy another product? Answer yes or no: \").lower().strip()\n",
    "#c. Ask the user if they want to add another product (yes/no).              \n",
    "\n",
    "              \n",
    "print(\"Ordered products:\", customer_orders)\n"
   ]
  },
  {
   "cell_type": "code",
   "execution_count": 3,
   "id": "f7085276",
   "metadata": {},
   "outputs": [
    {
     "name": "stdout",
     "output_type": "stream",
     "text": [
      "Order Statistics: \n",
      "Number of ordered products: 2 \n",
      "Percentage ordered: 4.0 %\n",
      "{'hat', 'mug'}\n",
      "Updated inventory is:\n",
      "t-shirt : 10\n",
      "mug : 9\n",
      "hat : 9\n",
      "book : 10\n",
      "keychain : 10\n"
     ]
    }
   ],
   "source": [
    "#Calculate the following order statistics: Total Products Ordered: The total number of products in the customer_orders set. Percentage of Products Ordered: The percentage of products ordered compared to the total available products.\n",
    "\n",
    "total_products_ordered=len(customer_orders)\n",
    "total_products=sum(inventory.values()) \n",
    "percentage_ordered=(total_products_ordered/total_products)*100\n",
    "\n",
    "order_status=(total_products_ordered, percentage_ordered)\n",
    "\n",
    "#Print the order statistics using the given format:\n",
    "\n",
    "print('Order Statistics: \\n'\n",
    "    'Number of ordered products:', total_products_ordered,\"\\n\" \n",
    "    \"Percentage ordered:\", round(percentage_ordered,2),'%')\n",
    "\n",
    "#Instead of updating the inventory by subtracting 1 from the quantity of each product, only do it for the products that were ordered (those in \"customer_orders\").\n",
    "\n",
    "print(customer_orders)\n",
    "\n",
    "for product in customer_orders:\n",
    "    if product in inventory.keys():\n",
    "        inventory[product]-=1\n",
    "\n",
    "\n",
    "#Print the updated inventory, displaying the quantity of each product on separate lines.\n",
    "\n",
    "print(\"Updated inventory is:\")\n",
    "for key, value in inventory.items():\n",
    "    print(key, \":\", value)"
   ]
  },
  {
   "cell_type": "code",
   "execution_count": null,
   "id": "24acce61",
   "metadata": {},
   "outputs": [],
   "source": []
  }
 ],
 "metadata": {
  "kernelspec": {
   "display_name": "Python 3 (ipykernel)",
   "language": "python",
   "name": "python3"
  },
  "language_info": {
   "codemirror_mode": {
    "name": "ipython",
    "version": 3
   },
   "file_extension": ".py",
   "mimetype": "text/x-python",
   "name": "python",
   "nbconvert_exporter": "python",
   "pygments_lexer": "ipython3",
   "version": "3.9.7"
  }
 },
 "nbformat": 4,
 "nbformat_minor": 5
}
